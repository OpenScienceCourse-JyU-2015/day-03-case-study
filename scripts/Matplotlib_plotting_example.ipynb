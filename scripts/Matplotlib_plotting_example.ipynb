{
 "cells": [
  {
   "cell_type": "code",
   "execution_count": 62,
   "metadata": {
    "collapsed": true
   },
   "outputs": [],
   "source": [
    "import pandas as pd\n",
    "import matplotlib as plt\n",
    "%matplotlib inline\n",
    "import matplotlib.pyplot as plt"
   ]
  },
  {
   "cell_type": "code",
   "execution_count": 50,
   "metadata": {
    "collapsed": false
   },
   "outputs": [
    {
     "data": {
      "text/html": [
       "<div>\n",
       "<table border=\"1\" class=\"dataframe\">\n",
       "  <thead>\n",
       "    <tr style=\"text-align: right;\">\n",
       "      <th></th>\n",
       "      <th>Unnamed: 0</th>\n",
       "      <th>species</th>\n",
       "      <th>climate</th>\n",
       "      <th>environment</th>\n",
       "      <th>depth_min</th>\n",
       "      <th>depth_max</th>\n",
       "      <th>temperature_min</th>\n",
       "      <th>temperature_max</th>\n",
       "      <th>COI_sequence</th>\n",
       "      <th>CYTB_sequence</th>\n",
       "      <th>ND5_sequence</th>\n",
       "    </tr>\n",
       "  </thead>\n",
       "  <tbody>\n",
       "    <tr>\n",
       "      <th>0</th>\n",
       "      <td>0</td>\n",
       "      <td>Micropterus floridanus</td>\n",
       "      <td>subtropical</td>\n",
       "      <td>freshwater benthopelagic</td>\n",
       "      <td>NaN</td>\n",
       "      <td>NaN</td>\n",
       "      <td>NaN</td>\n",
       "      <td>NaN</td>\n",
       "      <td>MAITRWFFSTNHKDIGTLYLVFGAWAGMVGTALSLLIRAELSQPGA...</td>\n",
       "      <td>MASLRKTHPLLKIANDALVDLPAPSNISVWWNFGSLLGLCLATQIL...</td>\n",
       "      <td>MHPTSLVMTSSLVTIFFLLTFPVLTTLTPRPPEITWALSHVKTAVK...</td>\n",
       "    </tr>\n",
       "    <tr>\n",
       "      <th>1</th>\n",
       "      <td>1</td>\n",
       "      <td>Ischikauia steenackeri</td>\n",
       "      <td>temperate</td>\n",
       "      <td>freshwater demersal</td>\n",
       "      <td>NaN</td>\n",
       "      <td>NaN</td>\n",
       "      <td>NaN</td>\n",
       "      <td>NaN</td>\n",
       "      <td>MAITRWFFSTNHKDIGTLYLVFGAWAGMVGTALSLLIRAELSQPGS...</td>\n",
       "      <td>MASLRKTHPLMKIANDALVDLPTPSNISVWWNFGSLLGLCLITQIL...</td>\n",
       "      <td>MNSTTLIMSSSLILVLTILMLPLLTTLNPKPQKPEWASTHVKTAVS...</td>\n",
       "    </tr>\n",
       "    <tr>\n",
       "      <th>2</th>\n",
       "      <td>2</td>\n",
       "      <td>Pseudohemiculter dispar</td>\n",
       "      <td>subtropical</td>\n",
       "      <td>freshwater benthopelagic brackish</td>\n",
       "      <td>NaN</td>\n",
       "      <td>NaN</td>\n",
       "      <td>NaN</td>\n",
       "      <td>NaN</td>\n",
       "      <td>MAITRWFFSTNHKDIGTLYLVFGAWAGMVGTALSLLIRAELSQPGS...</td>\n",
       "      <td>MASLRKTHPLMKIANDALVDLPTPSNISVWWNFGSLLGLCLITQIL...</td>\n",
       "      <td>MNSTTLIMSSSLILVLIILMLPLVTTLSPKPQKPEWANTHVKTAVS...</td>\n",
       "    </tr>\n",
       "  </tbody>\n",
       "</table>\n",
       "</div>"
      ],
      "text/plain": [
       "   Unnamed: 0                  species      climate  \\\n",
       "0           0   Micropterus floridanus  subtropical   \n",
       "1           1   Ischikauia steenackeri    temperate   \n",
       "2           2  Pseudohemiculter dispar  subtropical   \n",
       "\n",
       "                         environment  depth_min  depth_max  temperature_min  \\\n",
       "0           freshwater benthopelagic        NaN        NaN              NaN   \n",
       "1                freshwater demersal        NaN        NaN              NaN   \n",
       "2  freshwater benthopelagic brackish        NaN        NaN              NaN   \n",
       "\n",
       "   temperature_max                                       COI_sequence  \\\n",
       "0              NaN  MAITRWFFSTNHKDIGTLYLVFGAWAGMVGTALSLLIRAELSQPGA...   \n",
       "1              NaN  MAITRWFFSTNHKDIGTLYLVFGAWAGMVGTALSLLIRAELSQPGS...   \n",
       "2              NaN  MAITRWFFSTNHKDIGTLYLVFGAWAGMVGTALSLLIRAELSQPGS...   \n",
       "\n",
       "                                       CYTB_sequence  \\\n",
       "0  MASLRKTHPLLKIANDALVDLPAPSNISVWWNFGSLLGLCLATQIL...   \n",
       "1  MASLRKTHPLMKIANDALVDLPTPSNISVWWNFGSLLGLCLITQIL...   \n",
       "2  MASLRKTHPLMKIANDALVDLPTPSNISVWWNFGSLLGLCLITQIL...   \n",
       "\n",
       "                                        ND5_sequence  \n",
       "0  MHPTSLVMTSSLVTIFFLLTFPVLTTLTPRPPEITWALSHVKTAVK...  \n",
       "1  MNSTTLIMSSSLILVLTILMLPLLTTLNPKPQKPEWASTHVKTAVS...  \n",
       "2  MNSTTLIMSSSLILVLIILMLPLVTTLSPKPQKPEWANTHVKTAVS...  "
      ]
     },
     "execution_count": 50,
     "metadata": {},
     "output_type": "execute_result"
    }
   ],
   "source": [
    "fishbase_joined = pd.read_csv('../data/fishbase_joined.csv')\n",
    "fishbase_joined.head(3)"
   ]
  },
  {
   "cell_type": "code",
   "execution_count": 51,
   "metadata": {
    "collapsed": false
   },
   "outputs": [],
   "source": [
    "# Drop the extra column\n",
    "fishbase_joined.drop('Unnamed: 0', axis = 1, inplace = True)"
   ]
  },
  {
   "cell_type": "code",
   "execution_count": 61,
   "metadata": {
    "collapsed": false
   },
   "outputs": [
    {
     "data": {
      "text/plain": [
       "<matplotlib.axes._subplots.AxesSubplot at 0x1164c5ba8>"
      ]
     },
     "execution_count": 61,
     "metadata": {},
     "output_type": "execute_result"
    },
    {
     "data": {
      "image/png": "[encoded data removed]",
      "text/plain": [
       "<matplotlib.figure.Figure at 0x1165001d0>"
      ]
     },
     "metadata": {},
     "output_type": "display_data"
    }
   ],
   "source": [
    "# Scatter plot of maximum depth vs maximum temperature\n",
    "fishbase_joined.plot(x = 'depth_max', y = 'temperature_max', kind = 'scatter')"
   ]
  },
  {
   "cell_type": "code",
   "execution_count": 64,
   "metadata": {
    "collapsed": false
   },
   "outputs": [
    {
     "data": {
      "text/plain": [
       "<matplotlib.axes._subplots.AxesSubplot at 0x11658ed30>"
      ]
     },
     "execution_count": 64,
     "metadata": {},
     "output_type": "execute_result"
    },
    {
     "data": {
      "image/png": "[encoded data removed]",
      "text/plain": [
       "<matplotlib.figure.Figure at 0x118fa33c8>"
      ]
     },
     "metadata": {},
     "output_type": "display_data"
    }
   ],
   "source": [
    "# Histogram of maximum temperature\n",
    "fishbase_joined['temperature_max'].plot.hist(alpha=0.5)"
   ]
  },
  {
   "cell_type": "code",
   "execution_count": 65,
   "metadata": {
    "collapsed": false
   },
   "outputs": [
    {
     "data": {
      "text/plain": [
       "'/Users/Eric/Downloads/day-03-case-study/scripts'"
      ]
     },
     "execution_count": 65,
     "metadata": {},
     "output_type": "execute_result"
    }
   ],
   "source": [
    "pwd"
   ]
  },
  {
   "cell_type": "code",
   "execution_count": null,
   "metadata": {
    "collapsed": true
   },
   "outputs": [],
   "source": []
  }
 ],
 "metadata": {
  "kernelspec": {
   "display_name": "Python 3",
   "language": "python",
   "name": "python3"
  },
  "language_info": {
   "codemirror_mode": {
    "name": "ipython",
    "version": 3
   },
   "file_extension": ".py",
   "mimetype": "text/x-python",
   "name": "python",
   "nbconvert_exporter": "python",
   "pygments_lexer": "ipython3",
   "version": "3.5.1"
  }
 },
 "nbformat": 4,
 "nbformat_minor": 0
}
