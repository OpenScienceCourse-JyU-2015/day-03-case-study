{
 "cells": [
  {
   "cell_type": "code",
   "execution_count": 24,
   "metadata": {
    "collapsed": true
   },
   "outputs": [],
   "source": [
    "# Importing relevant libraries\n",
    "import pandas as pd\n",
    "import sqlite3"
   ]
  },
  {
   "cell_type": "code",
   "execution_count": 53,
   "metadata": {
    "collapsed": false
   },
   "outputs": [],
   "source": [
    "# Create a connection and a cursor for querying\n",
    "conn = sqlite3.connect(\"../data/fishbase_data.sqlite\")\n",
    "c = conn.cursor()"
   ]
  },
  {
   "cell_type": "code",
   "execution_count": 54,
   "metadata": {
    "collapsed": false
   },
   "outputs": [
    {
     "data": {
      "text/plain": [
       "[('fishbase_temperature',),\n",
       " ('fishbase_environment',),\n",
       " ('fishbase_extra_data',),\n",
       " ('seq_COI',),\n",
       " ('seq_CYTB',),\n",
       " ('seq_ND5',)]"
      ]
     },
     "execution_count": 54,
     "metadata": {},
     "output_type": "execute_result"
    }
   ],
   "source": [
    "# Print out table names from the database\n",
    "c.execute(\"SELECT name FROM sqlite_master WHERE type='table'\")\n",
    "c.fetchall()"
   ]
  },
  {
   "cell_type": "code",
   "execution_count": 55,
   "metadata": {
    "collapsed": false
   },
   "outputs": [
    {
     "data": {
      "text/plain": [
       "(1265, 5)"
      ]
     },
     "execution_count": 55,
     "metadata": {},
     "output_type": "execute_result"
    }
   ],
   "source": [
    "# Read fishbase_environment table\n",
    "fishbase_env = pd.read_sql_query(\"SELECT species, climate, environment, depth_min, depth_max FROM fishbase_environment\", conn)\n",
    "fishbase_env.shape"
   ]
  },
  {
   "cell_type": "code",
   "execution_count": 56,
   "metadata": {
    "collapsed": false
   },
   "outputs": [
    {
     "data": {
      "text/plain": [
       "(1265, 3)"
      ]
     },
     "execution_count": 56,
     "metadata": {},
     "output_type": "execute_result"
    }
   ],
   "source": [
    "fishbase_temp = pd.read_sql_query(\"SELECT species, temperature_min, temperature_max FROM fishbase_temperature\", conn)\n",
    "fishbase_temp.shape"
   ]
  },
  {
   "cell_type": "code",
   "execution_count": 57,
   "metadata": {
    "collapsed": false
   },
   "outputs": [
    {
     "data": {
      "text/plain": [
       "(1220, 2)"
      ]
     },
     "execution_count": 57,
     "metadata": {},
     "output_type": "execute_result"
    }
   ],
   "source": [
    "# Read sequence data. Note! we need to use the drop_duplicates method to remove species duplicates from the table\n",
    "seq_COI = pd.read_sql_query(\"SELECT species, sequence AS COI_sequence FROM seq_COI\", conn)\n",
    "seq_COI.drop_duplicates('species', inplace = True)"
   ]
  },
  {
   "cell_type": "code",
   "execution_count": 58,
   "metadata": {
    "collapsed": false
   },
   "outputs": [
    {
     "data": {
      "text/plain": [
       "(1217, 2)"
      ]
     },
     "execution_count": 58,
     "metadata": {},
     "output_type": "execute_result"
    }
   ],
   "source": [
    "seq_CYTB = pd.read_sql_query(\"SELECT species, sequence AS CYTB_sequence FROM seq_CYTB\", conn)\n",
    "seq_CYTB.drop_duplicates('species', inplace = True)"
   ]
  },
  {
   "cell_type": "code",
   "execution_count": 59,
   "metadata": {
    "collapsed": false
   },
   "outputs": [
    {
     "data": {
      "text/plain": [
       "(1219, 2)"
      ]
     },
     "execution_count": 59,
     "metadata": {},
     "output_type": "execute_result"
    }
   ],
   "source": [
    "seq_ND5 = pd.read_sql_query(\"SELECT species, sequence AS ND5_sequence FROM seq_ND5\", conn)\n",
    "seq_ND5.drop_duplicates('species', inplace = True)"
   ]
  },
  {
   "cell_type": "code",
   "execution_count": 60,
   "metadata": {
    "collapsed": true
   },
   "outputs": [],
   "source": [
    "# It is good practice to close the connection to the database once we have finished using it\n",
    "conn.close()"
   ]
  },
  {
   "cell_type": "code",
   "execution_count": 61,
   "metadata": {
    "collapsed": false
   },
   "outputs": [
    {
     "data": {
      "text/plain": [
       "(1265, 7)"
      ]
     },
     "execution_count": 61,
     "metadata": {},
     "output_type": "execute_result"
    }
   ],
   "source": [
    "fishbase_joined = pd.merge(fishbase_env, fishbase_temp, on = 'species', how = 'inner')"
   ]
  },
  {
   "cell_type": "code",
   "execution_count": 62,
   "metadata": {
    "collapsed": false
   },
   "outputs": [
    {
     "data": {
      "text/plain": [
       "(1178, 8)"
      ]
     },
     "execution_count": 62,
     "metadata": {},
     "output_type": "execute_result"
    }
   ],
   "source": [
    "fishbase_joined = pd.merge(fishbase_joined, seq_COI, on = 'species', how = 'inner')"
   ]
  },
  {
   "cell_type": "code",
   "execution_count": 63,
   "metadata": {
    "collapsed": false
   },
   "outputs": [
    {
     "data": {
      "text/plain": [
       "(1175, 9)"
      ]
     },
     "execution_count": 63,
     "metadata": {},
     "output_type": "execute_result"
    }
   ],
   "source": [
    "fishbase_joined = pd.merge(fishbase_joined, seq_CYTB, on = 'species', how = 'inner')"
   ]
  },
  {
   "cell_type": "code",
   "execution_count": 64,
   "metadata": {
    "collapsed": false
   },
   "outputs": [
    {
     "data": {
      "text/plain": [
       "(1174, 10)"
      ]
     },
     "execution_count": 64,
     "metadata": {},
     "output_type": "execute_result"
    }
   ],
   "source": [
    "fishbase_joined = pd.merge(fishbase_joined, seq_ND5, on = 'species', how = 'inner')"
   ]
  },
  {
   "cell_type": "code",
   "execution_count": 65,
   "metadata": {
    "collapsed": false
   },
   "outputs": [
    {
     "data": {
      "text/html": [
       "<div>\n",
       "<table border=\"1\" class=\"dataframe\">\n",
       "  <thead>\n",
       "    <tr style=\"text-align: right;\">\n",
       "      <th></th>\n",
       "      <th>species</th>\n",
       "      <th>climate</th>\n",
       "      <th>environment</th>\n",
       "      <th>depth_min</th>\n",
       "      <th>depth_max</th>\n",
       "      <th>temperature_min</th>\n",
       "      <th>temperature_max</th>\n",
       "      <th>COI_sequence</th>\n",
       "      <th>CYTB_sequence</th>\n",
       "      <th>ND5_sequence</th>\n",
       "    </tr>\n",
       "  </thead>\n",
       "  <tbody>\n",
       "    <tr>\n",
       "      <th>0</th>\n",
       "      <td>Micropterus floridanus</td>\n",
       "      <td>subtropical</td>\n",
       "      <td>freshwater benthopelagic</td>\n",
       "      <td>NaN</td>\n",
       "      <td>NaN</td>\n",
       "      <td>NaN</td>\n",
       "      <td>NaN</td>\n",
       "      <td>MAITRWFFSTNHKDIGTLYLVFGAWAGMVGTALSLLIRAELSQPGA...</td>\n",
       "      <td>MASLRKTHPLLKIANDALVDLPAPSNISVWWNFGSLLGLCLATQIL...</td>\n",
       "      <td>MHPTSLVMTSSLVTIFFLLTFPVLTTLTPRPPEITWALSHVKTAVK...</td>\n",
       "    </tr>\n",
       "    <tr>\n",
       "      <th>1</th>\n",
       "      <td>Ischikauia steenackeri</td>\n",
       "      <td>temperate</td>\n",
       "      <td>freshwater demersal</td>\n",
       "      <td>NaN</td>\n",
       "      <td>NaN</td>\n",
       "      <td>NaN</td>\n",
       "      <td>NaN</td>\n",
       "      <td>MAITRWFFSTNHKDIGTLYLVFGAWAGMVGTALSLLIRAELSQPGS...</td>\n",
       "      <td>MASLRKTHPLMKIANDALVDLPTPSNISVWWNFGSLLGLCLITQIL...</td>\n",
       "      <td>MNSTTLIMSSSLILVLTILMLPLLTTLNPKPQKPEWASTHVKTAVS...</td>\n",
       "    </tr>\n",
       "    <tr>\n",
       "      <th>2</th>\n",
       "      <td>Pseudohemiculter dispar</td>\n",
       "      <td>subtropical</td>\n",
       "      <td>freshwater benthopelagic brackish</td>\n",
       "      <td>NaN</td>\n",
       "      <td>NaN</td>\n",
       "      <td>NaN</td>\n",
       "      <td>NaN</td>\n",
       "      <td>MAITRWFFSTNHKDIGTLYLVFGAWAGMVGTALSLLIRAELSQPGS...</td>\n",
       "      <td>MASLRKTHPLMKIANDALVDLPTPSNISVWWNFGSLLGLCLITQIL...</td>\n",
       "      <td>MNSTTLIMSSSLILVLIILMLPLVTTLSPKPQKPEWANTHVKTAVS...</td>\n",
       "    </tr>\n",
       "    <tr>\n",
       "      <th>3</th>\n",
       "      <td>Tinca tinca</td>\n",
       "      <td>temperate</td>\n",
       "      <td>freshwater brackish potamodromous demersal</td>\n",
       "      <td>1.0</td>\n",
       "      <td>NaN</td>\n",
       "      <td>4.0</td>\n",
       "      <td>24.0</td>\n",
       "      <td>MAITRWFFSTNHKDIGTLYLVFGAWAGMVGTALSLLIRAELSQPGS...</td>\n",
       "      <td>MASLRKTHPLIKIANDALVDLPTPSNISVWWNFGSLLGLCLIIQIL...</td>\n",
       "      <td>MNSTTLIMSSSLILVLTILMLPLLTSLNPNPQKPQWANTHVKTAVS...</td>\n",
       "    </tr>\n",
       "    <tr>\n",
       "      <th>4</th>\n",
       "      <td>Polypterus weeksii</td>\n",
       "      <td>tropical</td>\n",
       "      <td>freshwater demersal</td>\n",
       "      <td>NaN</td>\n",
       "      <td>NaN</td>\n",
       "      <td>NaN</td>\n",
       "      <td>NaN</td>\n",
       "      <td>MTITRWLFSTNHKDIGTLYLIFGAWAGMVGTALSLLIRAELGQPGA...</td>\n",
       "      <td>MAIIRKTHPLAKIINSAFIDLPAPSNISSWWNMGSLLGLCLIAQII...</td>\n",
       "      <td>MSITQLSQMFMTCLSLTIIILILPIMLSLMTKPSNNWPYQVKNAVK...</td>\n",
       "    </tr>\n",
       "  </tbody>\n",
       "</table>\n",
       "</div>"
      ],
      "text/plain": [
       "                   species      climate  \\\n",
       "0   Micropterus floridanus  subtropical   \n",
       "1   Ischikauia steenackeri    temperate   \n",
       "2  Pseudohemiculter dispar  subtropical   \n",
       "3              Tinca tinca    temperate   \n",
       "4       Polypterus weeksii     tropical   \n",
       "\n",
       "                                  environment  depth_min  depth_max  \\\n",
       "0                    freshwater benthopelagic        NaN        NaN   \n",
       "1                         freshwater demersal        NaN        NaN   \n",
       "2           freshwater benthopelagic brackish        NaN        NaN   \n",
       "3  freshwater brackish potamodromous demersal        1.0        NaN   \n",
       "4                         freshwater demersal        NaN        NaN   \n",
       "\n",
       "   temperature_min  temperature_max  \\\n",
       "0              NaN              NaN   \n",
       "1              NaN              NaN   \n",
       "2              NaN              NaN   \n",
       "3              4.0             24.0   \n",
       "4              NaN              NaN   \n",
       "\n",
       "                                        COI_sequence  \\\n",
       "0  MAITRWFFSTNHKDIGTLYLVFGAWAGMVGTALSLLIRAELSQPGA...   \n",
       "1  MAITRWFFSTNHKDIGTLYLVFGAWAGMVGTALSLLIRAELSQPGS...   \n",
       "2  MAITRWFFSTNHKDIGTLYLVFGAWAGMVGTALSLLIRAELSQPGS...   \n",
       "3  MAITRWFFSTNHKDIGTLYLVFGAWAGMVGTALSLLIRAELSQPGS...   \n",
       "4  MTITRWLFSTNHKDIGTLYLIFGAWAGMVGTALSLLIRAELGQPGA...   \n",
       "\n",
       "                                       CYTB_sequence  \\\n",
       "0  MASLRKTHPLLKIANDALVDLPAPSNISVWWNFGSLLGLCLATQIL...   \n",
       "1  MASLRKTHPLMKIANDALVDLPTPSNISVWWNFGSLLGLCLITQIL...   \n",
       "2  MASLRKTHPLMKIANDALVDLPTPSNISVWWNFGSLLGLCLITQIL...   \n",
       "3  MASLRKTHPLIKIANDALVDLPTPSNISVWWNFGSLLGLCLIIQIL...   \n",
       "4  MAIIRKTHPLAKIINSAFIDLPAPSNISSWWNMGSLLGLCLIAQII...   \n",
       "\n",
       "                                        ND5_sequence  \n",
       "0  MHPTSLVMTSSLVTIFFLLTFPVLTTLTPRPPEITWALSHVKTAVK...  \n",
       "1  MNSTTLIMSSSLILVLTILMLPLLTTLNPKPQKPEWASTHVKTAVS...  \n",
       "2  MNSTTLIMSSSLILVLIILMLPLVTTLSPKPQKPEWANTHVKTAVS...  \n",
       "3  MNSTTLIMSSSLILVLTILMLPLLTSLNPNPQKPQWANTHVKTAVS...  \n",
       "4  MSITQLSQMFMTCLSLTIIILILPIMLSLMTKPSNNWPYQVKNAVK...  "
      ]
     },
     "execution_count": 65,
     "metadata": {},
     "output_type": "execute_result"
    }
   ],
   "source": [
    "fishbase_joined.head()"
   ]
  },
  {
   "cell_type": "code",
   "execution_count": 67,
   "metadata": {
    "collapsed": true
   },
   "outputs": [],
   "source": [
    "fishbase_joined.to_csv('../data/fishbase_joined.csv')"
   ]
  }
 ],
 "metadata": {
  "kernelspec": {
   "display_name": "Python 3",
   "language": "python",
   "name": "python3"
  },
  "language_info": {
   "codemirror_mode": {
    "name": "ipython",
    "version": 3
   },
   "file_extension": ".py",
   "mimetype": "text/x-python",
   "name": "python",
   "nbconvert_exporter": "python",
   "pygments_lexer": "ipython3",
   "version": "3.5.1"
  }
 },
 "nbformat": 4,
 "nbformat_minor": 0
}
