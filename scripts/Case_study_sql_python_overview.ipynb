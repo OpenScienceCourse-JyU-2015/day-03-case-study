{
 "cells": [
  {
   "cell_type": "markdown",
   "metadata": {},
   "source": [
    "# SQL"
   ]
  },
  {
   "cell_type": "markdown",
   "metadata": {},
   "source": [
    "Check out: http://sebastianraschka.com/Articles/2014_sqlite_in_python_tutorial.html  \n",
    "And: https://www.dataquest.io/blog/python-pandas-databases/"
   ]
  },
  {
   "cell_type": "code",
   "execution_count": 1,
   "metadata": {
    "collapsed": true
   },
   "outputs": [],
   "source": [
    "# Importing relevant libraries\n",
    "import pandas as pd\n",
    "import sqlite3"
   ]
  },
  {
   "cell_type": "code",
   "execution_count": 5,
   "metadata": {
    "collapsed": false
   },
   "outputs": [],
   "source": [
    "# Create a connection and a cursor for querying\n",
    "conn = sqlite3.connect(\"../data/fishbase_data.sqlite\")\n",
    "c = conn.cursor()"
   ]
  },
  {
   "cell_type": "code",
   "execution_count": 7,
   "metadata": {
    "collapsed": false
   },
   "outputs": [
    {
     "data": {
      "text/plain": [
       "[('fishbase_temperature',),\n",
       " ('fishbase_environment',),\n",
       " ('fishbase_extra_data',),\n",
       " ('seq_COI',),\n",
       " ('seq_CYTB',),\n",
       " ('seq_ND5',)]"
      ]
     },
     "execution_count": 7,
     "metadata": {},
     "output_type": "execute_result"
    }
   ],
   "source": [
    "# Print out table names from the database\n",
    "c.execute(\"SELECT name FROM sqlite_master WHERE type='table'\")\n",
    "c.fetchall()"
   ]
  },
  {
   "cell_type": "code",
   "execution_count": 8,
   "metadata": {
    "collapsed": true
   },
   "outputs": [],
   "source": [
    "# Reading in a table or SQL query directly into a pandas dataframe\n",
    "fishbase_environment = pd.read_sql_query(\"SELECT * from fishbase_environment\", conn)"
   ]
  },
  {
   "cell_type": "code",
   "execution_count": 9,
   "metadata": {
    "collapsed": false
   },
   "outputs": [
    {
     "data": {
      "text/plain": [
       "pandas.core.frame.DataFrame"
      ]
     },
     "execution_count": 9,
     "metadata": {},
     "output_type": "execute_result"
    }
   ],
   "source": [
    "type(fishbase_environment)"
   ]
  },
  {
   "cell_type": "code",
   "execution_count": 10,
   "metadata": {
    "collapsed": false
   },
   "outputs": [
    {
     "data": {
      "text/html": [
       "<div>\n",
       "<table border=\"1\" class=\"dataframe\">\n",
       "  <thead>\n",
       "    <tr style=\"text-align: right;\">\n",
       "      <th></th>\n",
       "      <th>index</th>\n",
       "      <th>species</th>\n",
       "      <th>climate</th>\n",
       "      <th>environment</th>\n",
       "      <th>depth_min</th>\n",
       "      <th>depth_max</th>\n",
       "    </tr>\n",
       "  </thead>\n",
       "  <tbody>\n",
       "    <tr>\n",
       "      <th>0</th>\n",
       "      <td>0</td>\n",
       "      <td>Micropterus floridanus</td>\n",
       "      <td>subtropical</td>\n",
       "      <td>freshwater benthopelagic</td>\n",
       "      <td>NaN</td>\n",
       "      <td>NaN</td>\n",
       "    </tr>\n",
       "    <tr>\n",
       "      <th>1</th>\n",
       "      <td>1</td>\n",
       "      <td>Ischikauia steenackeri</td>\n",
       "      <td>temperate</td>\n",
       "      <td>freshwater demersal</td>\n",
       "      <td>NaN</td>\n",
       "      <td>NaN</td>\n",
       "    </tr>\n",
       "    <tr>\n",
       "      <th>2</th>\n",
       "      <td>2</td>\n",
       "      <td>Pseudohemiculter dispar</td>\n",
       "      <td>subtropical</td>\n",
       "      <td>freshwater benthopelagic brackish</td>\n",
       "      <td>NaN</td>\n",
       "      <td>NaN</td>\n",
       "    </tr>\n",
       "    <tr>\n",
       "      <th>3</th>\n",
       "      <td>3</td>\n",
       "      <td>Tinca tinca</td>\n",
       "      <td>temperate</td>\n",
       "      <td>freshwater brackish potamodromous demersal</td>\n",
       "      <td>1.0</td>\n",
       "      <td>NaN</td>\n",
       "    </tr>\n",
       "    <tr>\n",
       "      <th>4</th>\n",
       "      <td>4</td>\n",
       "      <td>Polypterus weeksii</td>\n",
       "      <td>tropical</td>\n",
       "      <td>freshwater demersal</td>\n",
       "      <td>NaN</td>\n",
       "      <td>NaN</td>\n",
       "    </tr>\n",
       "  </tbody>\n",
       "</table>\n",
       "</div>"
      ],
      "text/plain": [
       "   index                  species      climate  \\\n",
       "0      0   Micropterus floridanus  subtropical   \n",
       "1      1   Ischikauia steenackeri    temperate   \n",
       "2      2  Pseudohemiculter dispar  subtropical   \n",
       "3      3              Tinca tinca    temperate   \n",
       "4      4       Polypterus weeksii     tropical   \n",
       "\n",
       "                                  environment  depth_min  depth_max  \n",
       "0                    freshwater benthopelagic        NaN        NaN  \n",
       "1                         freshwater demersal        NaN        NaN  \n",
       "2           freshwater benthopelagic brackish        NaN        NaN  \n",
       "3  freshwater brackish potamodromous demersal        1.0        NaN  \n",
       "4                         freshwater demersal        NaN        NaN  "
      ]
     },
     "execution_count": 10,
     "metadata": {},
     "output_type": "execute_result"
    }
   ],
   "source": [
    "fishbase_environment.head()"
   ]
  },
  {
   "cell_type": "code",
   "execution_count": 57,
   "metadata": {
    "collapsed": false
   },
   "outputs": [
    {
     "data": {
      "text/html": [
       "<div>\n",
       "<table border=\"1\" class=\"dataframe\">\n",
       "  <thead>\n",
       "    <tr style=\"text-align: right;\">\n",
       "      <th></th>\n",
       "      <th>index</th>\n",
       "      <th>species</th>\n",
       "      <th>climate</th>\n",
       "      <th>environment</th>\n",
       "      <th>depth_min</th>\n",
       "      <th>depth_max</th>\n",
       "    </tr>\n",
       "  </thead>\n",
       "  <tbody>\n",
       "  </tbody>\n",
       "</table>\n",
       "</div>"
      ],
      "text/plain": [
       "Empty DataFrame\n",
       "Columns: [index, species, climate, environment, depth_min, depth_max]\n",
       "Index: []"
      ]
     },
     "execution_count": 57,
     "metadata": {},
     "output_type": "execute_result"
    }
   ],
   "source": [
    "# We can also get the column names as a pandas dataframe\n",
    "pd.read_sql_query(\"SELECT * FROM fishbase_environment LIMIT 0\", conn)"
   ]
  },
  {
   "cell_type": "code",
   "execution_count": 11,
   "metadata": {
    "collapsed": true
   },
   "outputs": [],
   "source": [
    "# Reading in the fishbase_temperature- table\n",
    "fishbase_temperature = pd.read_sql_query(\"SELECT * from fishbase_temperature\", conn)"
   ]
  },
  {
   "cell_type": "code",
   "execution_count": 12,
   "metadata": {
    "collapsed": false
   },
   "outputs": [
    {
     "data": {
      "text/html": [
       "<div>\n",
       "<table border=\"1\" class=\"dataframe\">\n",
       "  <thead>\n",
       "    <tr style=\"text-align: right;\">\n",
       "      <th></th>\n",
       "      <th>index</th>\n",
       "      <th>species</th>\n",
       "      <th>temperature_min</th>\n",
       "      <th>temperature_max</th>\n",
       "      <th>climate</th>\n",
       "      <th>environment</th>\n",
       "    </tr>\n",
       "  </thead>\n",
       "  <tbody>\n",
       "    <tr>\n",
       "      <th>0</th>\n",
       "      <td>0</td>\n",
       "      <td>Auxis thazard</td>\n",
       "      <td>27.0</td>\n",
       "      <td>28.0</td>\n",
       "      <td>tropical</td>\n",
       "      <td>oceanodromous marine pelagic-neritic</td>\n",
       "    </tr>\n",
       "    <tr>\n",
       "      <th>1</th>\n",
       "      <td>1</td>\n",
       "      <td>Percocypris pingi</td>\n",
       "      <td>NaN</td>\n",
       "      <td>NaN</td>\n",
       "      <td>subtropical</td>\n",
       "      <td>freshwater benthopelagic</td>\n",
       "    </tr>\n",
       "    <tr>\n",
       "      <th>2</th>\n",
       "      <td>2</td>\n",
       "      <td>Hiodon tergisus</td>\n",
       "      <td>NaN</td>\n",
       "      <td>NaN</td>\n",
       "      <td>temperate</td>\n",
       "      <td>pelagic freshwater</td>\n",
       "    </tr>\n",
       "    <tr>\n",
       "      <th>3</th>\n",
       "      <td>3</td>\n",
       "      <td>Halichoeres tenuispinis</td>\n",
       "      <td>NaN</td>\n",
       "      <td>NaN</td>\n",
       "      <td>tropical</td>\n",
       "      <td>reef-associated marine</td>\n",
       "    </tr>\n",
       "    <tr>\n",
       "      <th>4</th>\n",
       "      <td>4</td>\n",
       "      <td>Cottus hangiongensis</td>\n",
       "      <td>NaN</td>\n",
       "      <td>NaN</td>\n",
       "      <td>temperate</td>\n",
       "      <td>catadromous freshwater marine brackish demersal</td>\n",
       "    </tr>\n",
       "  </tbody>\n",
       "</table>\n",
       "</div>"
      ],
      "text/plain": [
       "   index                  species  temperature_min  temperature_max  \\\n",
       "0      0            Auxis thazard             27.0             28.0   \n",
       "1      1        Percocypris pingi              NaN              NaN   \n",
       "2      2          Hiodon tergisus              NaN              NaN   \n",
       "3      3  Halichoeres tenuispinis              NaN              NaN   \n",
       "4      4     Cottus hangiongensis              NaN              NaN   \n",
       "\n",
       "       climate                                      environment  \n",
       "0     tropical             oceanodromous marine pelagic-neritic  \n",
       "1  subtropical                         freshwater benthopelagic  \n",
       "2    temperate                               pelagic freshwater  \n",
       "3     tropical                           reef-associated marine  \n",
       "4    temperate  catadromous freshwater marine brackish demersal  "
      ]
     },
     "execution_count": 12,
     "metadata": {},
     "output_type": "execute_result"
    }
   ],
   "source": [
    "fishbase_temperature.head()"
   ]
  },
  {
   "cell_type": "code",
   "execution_count": 13,
   "metadata": {
    "collapsed": true
   },
   "outputs": [],
   "source": [
    "# It is good practice to close the connection to the database once we have finished using it\n",
    "conn.close()"
   ]
  },
  {
   "cell_type": "markdown",
   "metadata": {},
   "source": [
    "# Joining tables"
   ]
  },
  {
   "cell_type": "markdown",
   "metadata": {},
   "source": [
    "## Concatenating"
   ]
  },
  {
   "cell_type": "code",
   "execution_count": 14,
   "metadata": {
    "collapsed": false
   },
   "outputs": [
    {
     "data": {
      "text/plain": [
       "(2530, 6)"
      ]
     },
     "execution_count": 14,
     "metadata": {},
     "output_type": "execute_result"
    }
   ],
   "source": [
    "# Along rows\n",
    "fishbase_env_long = pd.concat([fishbase_environment, fishbase_environment], axis = 0)\n",
    "fishbase_env_long.shape"
   ]
  },
  {
   "cell_type": "code",
   "execution_count": 70,
   "metadata": {
    "collapsed": false
   },
   "outputs": [
    {
     "data": {
      "text/plain": [
       "(1265, 12)"
      ]
     },
     "execution_count": 70,
     "metadata": {},
     "output_type": "execute_result"
    }
   ],
   "source": [
    "# Along columns\n",
    "fishbase_env_wide = pd.concat([fishbase_environment, fishbase_environment], axis = 1)\n",
    "fishbase_env_wide.shape"
   ]
  },
  {
   "cell_type": "markdown",
   "metadata": {},
   "source": [
    "## Inner join"
   ]
  },
  {
   "cell_type": "code",
   "execution_count": 15,
   "metadata": {
    "collapsed": true
   },
   "outputs": [],
   "source": [
    "fishbase_temp_env = pd.merge(left = fishbase_environment, \n",
    "    right = fishbase_temperature, left_on = 'species', right_on = 'species', how = 'inner')\n",
    "\n",
    "# This can be shortened\n",
    "fishbase_temp_env = pd.merge(fishbase_environment, fishbase_temperature, on = 'species', how = 'inner')"
   ]
  },
  {
   "cell_type": "code",
   "execution_count": 16,
   "metadata": {
    "collapsed": false
   },
   "outputs": [
    {
     "data": {
      "text/html": [
       "<div>\n",
       "<table border=\"1\" class=\"dataframe\">\n",
       "  <thead>\n",
       "    <tr style=\"text-align: right;\">\n",
       "      <th></th>\n",
       "      <th>index_x</th>\n",
       "      <th>species</th>\n",
       "      <th>climate_x</th>\n",
       "      <th>environment_x</th>\n",
       "      <th>depth_min</th>\n",
       "      <th>depth_max</th>\n",
       "      <th>index_y</th>\n",
       "      <th>temperature_min</th>\n",
       "      <th>temperature_max</th>\n",
       "      <th>climate_y</th>\n",
       "      <th>environment_y</th>\n",
       "    </tr>\n",
       "  </thead>\n",
       "  <tbody>\n",
       "    <tr>\n",
       "      <th>0</th>\n",
       "      <td>0</td>\n",
       "      <td>Micropterus floridanus</td>\n",
       "      <td>subtropical</td>\n",
       "      <td>freshwater benthopelagic</td>\n",
       "      <td>NaN</td>\n",
       "      <td>NaN</td>\n",
       "      <td>299</td>\n",
       "      <td>NaN</td>\n",
       "      <td>NaN</td>\n",
       "      <td>subtropical</td>\n",
       "      <td>freshwater benthopelagic</td>\n",
       "    </tr>\n",
       "    <tr>\n",
       "      <th>1</th>\n",
       "      <td>1</td>\n",
       "      <td>Ischikauia steenackeri</td>\n",
       "      <td>temperate</td>\n",
       "      <td>freshwater demersal</td>\n",
       "      <td>NaN</td>\n",
       "      <td>NaN</td>\n",
       "      <td>1027</td>\n",
       "      <td>NaN</td>\n",
       "      <td>NaN</td>\n",
       "      <td>temperate</td>\n",
       "      <td>freshwater demersal</td>\n",
       "    </tr>\n",
       "    <tr>\n",
       "      <th>2</th>\n",
       "      <td>2</td>\n",
       "      <td>Pseudohemiculter dispar</td>\n",
       "      <td>subtropical</td>\n",
       "      <td>freshwater benthopelagic brackish</td>\n",
       "      <td>NaN</td>\n",
       "      <td>NaN</td>\n",
       "      <td>981</td>\n",
       "      <td>NaN</td>\n",
       "      <td>NaN</td>\n",
       "      <td>subtropical</td>\n",
       "      <td>freshwater benthopelagic brackish</td>\n",
       "    </tr>\n",
       "    <tr>\n",
       "      <th>3</th>\n",
       "      <td>3</td>\n",
       "      <td>Tinca tinca</td>\n",
       "      <td>temperate</td>\n",
       "      <td>freshwater brackish potamodromous demersal</td>\n",
       "      <td>1.0</td>\n",
       "      <td>NaN</td>\n",
       "      <td>52</td>\n",
       "      <td>4.0</td>\n",
       "      <td>24.0</td>\n",
       "      <td>temperate</td>\n",
       "      <td>freshwater brackish potamodromous demersal</td>\n",
       "    </tr>\n",
       "    <tr>\n",
       "      <th>4</th>\n",
       "      <td>4</td>\n",
       "      <td>Polypterus weeksii</td>\n",
       "      <td>tropical</td>\n",
       "      <td>freshwater demersal</td>\n",
       "      <td>NaN</td>\n",
       "      <td>NaN</td>\n",
       "      <td>705</td>\n",
       "      <td>NaN</td>\n",
       "      <td>NaN</td>\n",
       "      <td>tropical</td>\n",
       "      <td>freshwater demersal</td>\n",
       "    </tr>\n",
       "  </tbody>\n",
       "</table>\n",
       "</div>"
      ],
      "text/plain": [
       "   index_x                  species    climate_x  \\\n",
       "0        0   Micropterus floridanus  subtropical   \n",
       "1        1   Ischikauia steenackeri    temperate   \n",
       "2        2  Pseudohemiculter dispar  subtropical   \n",
       "3        3              Tinca tinca    temperate   \n",
       "4        4       Polypterus weeksii     tropical   \n",
       "\n",
       "                                environment_x  depth_min  depth_max  index_y  \\\n",
       "0                    freshwater benthopelagic        NaN        NaN      299   \n",
       "1                         freshwater demersal        NaN        NaN     1027   \n",
       "2           freshwater benthopelagic brackish        NaN        NaN      981   \n",
       "3  freshwater brackish potamodromous demersal        1.0        NaN       52   \n",
       "4                         freshwater demersal        NaN        NaN      705   \n",
       "\n",
       "   temperature_min  temperature_max    climate_y  \\\n",
       "0              NaN              NaN  subtropical   \n",
       "1              NaN              NaN    temperate   \n",
       "2              NaN              NaN  subtropical   \n",
       "3              4.0             24.0    temperate   \n",
       "4              NaN              NaN     tropical   \n",
       "\n",
       "                                environment_y  \n",
       "0                    freshwater benthopelagic  \n",
       "1                         freshwater demersal  \n",
       "2           freshwater benthopelagic brackish  \n",
       "3  freshwater brackish potamodromous demersal  \n",
       "4                         freshwater demersal  "
      ]
     },
     "execution_count": 16,
     "metadata": {},
     "output_type": "execute_result"
    }
   ],
   "source": [
    "fishbase_temp_env.head()"
   ]
  },
  {
   "cell_type": "code",
   "execution_count": 93,
   "metadata": {
    "collapsed": false
   },
   "outputs": [
    {
     "data": {
      "text/plain": [
       "(1265, 11)"
      ]
     },
     "execution_count": 93,
     "metadata": {},
     "output_type": "execute_result"
    }
   ],
   "source": [
    "fishbase_temp_env.shape"
   ]
  },
  {
   "cell_type": "code",
   "execution_count": 95,
   "metadata": {
    "collapsed": false
   },
   "outputs": [
    {
     "name": "stdout",
     "output_type": "stream",
     "text": [
      "Index(['species', 'climate_x', 'environment_x', 'depth_min', 'depth_max',\n",
      "       'temperature_min', 'temperature_max'],\n",
      "      dtype='object')\n"
     ]
    }
   ],
   "source": [
    "# We can drop and rename duplicate columns\n",
    "print(fishbase_temp_env.columns)"
   ]
  },
  {
   "cell_type": "code",
   "execution_count": 99,
   "metadata": {
    "collapsed": true
   },
   "outputs": [],
   "source": [
    "fishbase_temp_env.drop(['index_x', 'index_y', 'climate_y', 'environment_y'], axis=1, inplace=True)\n",
    "fishbase_temp_env.rename(columns = { 'climate_x' : 'climate', 'environment_x' : 'environment'}, inplace=True)"
   ]
  },
  {
   "cell_type": "code",
   "execution_count": 101,
   "metadata": {
    "collapsed": false
   },
   "outputs": [],
   "source": [
    "# Alternatively, we could have specified the columns to include during the join\n"
   ]
  },
  {
   "cell_type": "code",
   "execution_count": 109,
   "metadata": {
    "collapsed": false
   },
   "outputs": [],
   "source": [
    "fishbase_temp_env = pd.merge(fishbase_environment[['species', 'climate', 'environment', 'depth_min', 'depth_max']], \n",
    "    fishbase_temperature[['species', 'temperature_min', 'temperature_max']], on = 'species', how = 'inner')"
   ]
  },
  {
   "cell_type": "code",
   "execution_count": 114,
   "metadata": {
    "collapsed": false
   },
   "outputs": [
    {
     "data": {
      "text/html": [
       "<div>\n",
       "<table border=\"1\" class=\"dataframe\">\n",
       "  <thead>\n",
       "    <tr style=\"text-align: right;\">\n",
       "      <th></th>\n",
       "      <th>species</th>\n",
       "      <th>climate</th>\n",
       "      <th>environment</th>\n",
       "      <th>depth_min</th>\n",
       "      <th>depth_max</th>\n",
       "      <th>temperature_min</th>\n",
       "      <th>temperature_max</th>\n",
       "    </tr>\n",
       "  </thead>\n",
       "  <tbody>\n",
       "    <tr>\n",
       "      <th>0</th>\n",
       "      <td>Micropterus floridanus</td>\n",
       "      <td>subtropical</td>\n",
       "      <td>freshwater benthopelagic</td>\n",
       "      <td>NaN</td>\n",
       "      <td>NaN</td>\n",
       "      <td>NaN</td>\n",
       "      <td>NaN</td>\n",
       "    </tr>\n",
       "    <tr>\n",
       "      <th>1</th>\n",
       "      <td>Ischikauia steenackeri</td>\n",
       "      <td>temperate</td>\n",
       "      <td>freshwater demersal</td>\n",
       "      <td>NaN</td>\n",
       "      <td>NaN</td>\n",
       "      <td>NaN</td>\n",
       "      <td>NaN</td>\n",
       "    </tr>\n",
       "    <tr>\n",
       "      <th>2</th>\n",
       "      <td>Pseudohemiculter dispar</td>\n",
       "      <td>subtropical</td>\n",
       "      <td>freshwater benthopelagic brackish</td>\n",
       "      <td>NaN</td>\n",
       "      <td>NaN</td>\n",
       "      <td>NaN</td>\n",
       "      <td>NaN</td>\n",
       "    </tr>\n",
       "    <tr>\n",
       "      <th>3</th>\n",
       "      <td>Tinca tinca</td>\n",
       "      <td>temperate</td>\n",
       "      <td>freshwater brackish potamodromous demersal</td>\n",
       "      <td>1.0</td>\n",
       "      <td>NaN</td>\n",
       "      <td>4.0</td>\n",
       "      <td>24.0</td>\n",
       "    </tr>\n",
       "    <tr>\n",
       "      <th>4</th>\n",
       "      <td>Polypterus weeksii</td>\n",
       "      <td>tropical</td>\n",
       "      <td>freshwater demersal</td>\n",
       "      <td>NaN</td>\n",
       "      <td>NaN</td>\n",
       "      <td>NaN</td>\n",
       "      <td>NaN</td>\n",
       "    </tr>\n",
       "  </tbody>\n",
       "</table>\n",
       "</div>"
      ],
      "text/plain": [
       "                   species      climate  \\\n",
       "0   Micropterus floridanus  subtropical   \n",
       "1   Ischikauia steenackeri    temperate   \n",
       "2  Pseudohemiculter dispar  subtropical   \n",
       "3              Tinca tinca    temperate   \n",
       "4       Polypterus weeksii     tropical   \n",
       "\n",
       "                                  environment  depth_min  depth_max  \\\n",
       "0                    freshwater benthopelagic        NaN        NaN   \n",
       "1                         freshwater demersal        NaN        NaN   \n",
       "2           freshwater benthopelagic brackish        NaN        NaN   \n",
       "3  freshwater brackish potamodromous demersal        1.0        NaN   \n",
       "4                         freshwater demersal        NaN        NaN   \n",
       "\n",
       "   temperature_min  temperature_max  \n",
       "0              NaN              NaN  \n",
       "1              NaN              NaN  \n",
       "2              NaN              NaN  \n",
       "3              4.0             24.0  \n",
       "4              NaN              NaN  "
      ]
     },
     "execution_count": 114,
     "metadata": {},
     "output_type": "execute_result"
    }
   ],
   "source": [
    "fishbase_temp_env.head()"
   ]
  },
  {
   "cell_type": "markdown",
   "metadata": {},
   "source": [
    "# Plotting with Matplotlib"
   ]
  },
  {
   "cell_type": "code",
   "execution_count": null,
   "metadata": {
    "collapsed": true
   },
   "outputs": [],
   "source": []
  }
 ],
 "metadata": {
  "kernelspec": {
   "display_name": "Python 3",
   "language": "python",
   "name": "python3"
  },
  "language_info": {
   "codemirror_mode": {
    "name": "ipython",
    "version": 3
   },
   "file_extension": ".py",
   "mimetype": "text/x-python",
   "name": "python",
   "nbconvert_exporter": "python",
   "pygments_lexer": "ipython3",
   "version": "3.5.1"
  }
 },
 "nbformat": 4,
 "nbformat_minor": 0
}
